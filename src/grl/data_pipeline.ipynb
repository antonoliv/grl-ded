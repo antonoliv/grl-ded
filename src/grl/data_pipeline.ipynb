{
 "cells": [
  {
   "cell_type": "markdown",
   "id": "3a5c28bc4e732a50",
   "metadata": {
    "collapsed": false
   },
   "source": [
    "# Data Pipeline"
   ]
  },
  {
   "cell_type": "markdown",
   "id": "fbad1d88",
   "metadata": {},
   "source": [
    "model1_path = './models/exp_reward/r_sac/data/train/episode.csv'\n",
    "model2_path = './models/exp_reward/rd1_sac/data/train/episode.csv'\n",
    "model2_path = './models/exp_reward/rd2_sac/data/train/episode.csv'\n",
    "model2_path = './models/exp_reward/rd3_sac/data/train/episode.csv'"
   ]
  },
  {
   "cell_type": "markdown",
   "id": "6763be09",
   "metadata": {},
   "source": [
    "## Accumulative Reward"
   ]
  },
  {
   "cell_type": "code",
   "execution_count": 4,
   "id": "d489b4a1473100a1",
   "metadata": {
    "ExecuteTime": {
     "end_time": "2024-03-12T16:56:48.908964Z",
     "start_time": "2024-03-12T16:56:48.767336Z"
    },
    "collapsed": false,
    "metadata": {}
   },
   "source": [
    "import pandas as pd\n",
    "import matplotlib.pyplot as plt\n",
    "import statsmodels.api as sm\n",
    "# Specify the path to your CSV file\n",
    "\n",
    "\n",
    "model1_path = 'experiments/grl1/sac/data/train/episode.csv'\n",
    "model2_path = 'experiments/grl1/gcn_sac/data/train/episode.csv'\n",
    "model3_path = 'experiments/test/sac/data/train/episode.csv'\n",
    "# model3_path = './experiments/exp_reward/rd2_sac/data/train/episode.csv'\n",
    "\n",
    "df_1 = pd.read_csv(model1_path)[0:2000]\n",
    "df_2 = pd.read_csv(model2_path)\n",
    "df_3 = pd.read_csv(model3_path)\n",
    "# df_4 = pd.read_csv(model4_path)\n",
    "\n",
    "window_size = 100  # Change this based on your needs\n",
    "df_1['Accumulative Reward (Avg)'] = df_1['Accumulative Reward'].rolling(window=window_size).mean()\n",
    "df_2['Accumulative Reward (Avg)'] = df_2['Accumulative Reward'].rolling(window=window_size).mean()\n",
    "df_3['Accumulative Reward (Avg)'] = df_3['Accumulative Reward'].rolling(window=window_size).mean()\n",
    "# df_4['Accumulative Reward (Avg)'] = df_4['Accumulative Reward'].rolling(window=window_size).mean()\n",
    "\n",
    "\n",
    "frac = 0.15\n",
    "lowess = sm.nonparametric.lowess\n",
    "df_1s = lowess(df_1['Accumulative Reward'], df_1['Episode'], frac=frac)\n",
    "df_2s = lowess(df_2['Accumulative Reward'], df_2['Episode'], frac=frac)\n",
    "df_3s = lowess(df_3['Accumulative Reward'], df_3['Episode'], frac=frac)\n",
    "# df_4s = lowess(df_4['Accumulative Reward'], df_4['Episode'], frac=frac)\n",
    "\n",
    "# Add the smoothed data to the original DataFrames\n",
    "df_1['Accumulative Reward (LOESS)'] = df_1s[:, 1]\n",
    "df_2['Accumulative Reward (LOESS)'] = df_2s[:, 1]\n",
    "df_3['Accumulative Reward (LOESS)'] = df_3s[:, 1]\n",
    "# df_4['Accumulative Reward (LOESS)'] = df_4s[:, 1]\n",
    "\n",
    "plt.plot(df_1['Episode'], df_1['Accumulative Reward (Avg)'], color=\"blue\")\n",
    "plt.plot(df_2['Episode'], df_2['Accumulative Reward (Avg)'], color=\"green\")\n",
    "plt.plot(df_3['Episode'], df_3['Accumulative Reward (Avg)'], color=\"red\")\n",
    "# plt.plot(df_4['Episode'], df_4['Accumulative Reward (LOESS)'], color=\"yellow\")\n",
    "\n",
    "# Customize the plot\n",
    "plt.title('Training Performance')\n",
    "plt.xlabel('Episode')\n",
    "plt.ylabel('Accumulative Reward')\n",
    "\n",
    "# Show the plot\n",
    "plt.show()"
   ],
   "outputs": []
  },
  {
   "cell_type": "code",
   "execution_count": 7,
   "id": "3a6cc19a1017c172",
   "metadata": {
    "collapsed": false,
    "metadata": {}
   },
   "source": [
    "\n",
    "\n",
    "df_1['Survival Rate'] = df_1['Length'] / 2016 * 100\n",
    "df_2['Survival Rate'] = df_2['Length'] / 2016 * 100\n",
    "df_3['Survival Rate'] = df_3['Length'] / 2016 * 100\n",
    "# df_4['Survival Rate'] = df_4['Length'] / 2016 * 100\n",
    "\n",
    "\n",
    "df_1['Survival Rate (Avg)'] = df_1['Survival Rate'].rolling(window=window_size).mean()\n",
    "df_2['Survival Rate (Avg)'] = df_2['Survival Rate'].rolling(window=window_size).mean()\n",
    "df_3['Survival Rate (Avg)'] = df_3['Survival Rate'].rolling(window=window_size).mean()\n",
    "# df_4['Survival Rate (Avg)'] = df_4['Survival Rate'].rolling(window=window_size).mean()\n",
    "\n",
    "frac = 0.15\n",
    "lowess = sm.nonparametric.lowess\n",
    "df_1s = lowess(df_1['Survival Rate'], df_1['Episode'], frac=frac)\n",
    "df_2s = lowess(df_2['Survival Rate'], df_2['Episode'], frac=frac)\n",
    "df_3s = lowess(df_3['Survival Rate'], df_3['Episode'], frac=frac)\n",
    "# df_4s = lowess(df_4['Accumulative Reward'], df_4['Episode'], frac=frac)\n",
    "\n",
    "# Add the smoothed data to the original DataFrames\n",
    "df_1['Survival Rate (LOESS)'] = df_1s[:, 1]\n",
    "df_2['Survival Rate (LOESS)'] = df_2s[:, 1]\n",
    "df_3['Survival Rate (LOESS)'] = df_3s[:, 1]\n",
    "# df_4['Accumulative Reward (LOESS)'] = df_4s[:, 1]\n",
    "\n",
    "plt.plot(df_1['Episode'], df_1['Survival Rate (Avg)'], color=\"blue\")\n",
    "plt.plot(df_2['Episode'], df_2['Survival Rate (Avg)'], color=\"green\")\n",
    "plt.plot(df_3['Episode'], df_3['Survival Rate (Avg)'], color=\"red\")\n",
    "# plt.plot(df_4['Episode'], df_4['Survival Rate (LOESS)'], color=\"yellow\")\n",
    "\n",
    "\n",
    "\n",
    "# Customize the plot\n",
    "plt.title('Survival Rate')\n",
    "plt.xlabel('Episode')\n",
    "plt.ylabel('Survival Rate')\n",
    "\n",
    "# Show the plot\n",
    "plt.show()"
   ],
   "outputs": []
  },
  {
   "cell_type": "code",
   "execution_count": 25,
   "id": "07706516",
   "metadata": {},
   "source": [
    "\n",
    "df_1['Avg Cost (Avg)'] = df_1['Avg Cost'].rolling(window=window_size).mean()\n",
    "df_2['Avg Cost (Avg)'] = df_2['Avg Cost'].rolling(window=window_size).mean()\n",
    "df_3['Avg Cost (Avg)'] = df_3['Avg Cost'].rolling(window=window_size).mean()\n",
    "# df_4['Avg Cost (Avg)'] = df_4['Avg Cost'].rolling(window=window_size).mean()\n",
    "\n",
    "frac = 0.15\n",
    "lowess = sm.nonparametric.lowess\n",
    "window_size = 125  # Change this based on your needs\n",
    "df_1s = lowess(df_1['Avg Cost'], df_1['Episode'], frac=frac)\n",
    "df_2s = lowess(df_2['Avg Cost'], df_2['Episode'], frac=frac)\n",
    "df_3s = lowess(df_3['Avg Cost'], df_3['Episode'], frac=frac)\n",
    "# df_4s = lowess(df_4['Accumulative Reward'], df_4['Episode'], frac=frac)\n",
    "\n",
    "# Add the smoothed data to the original DataFrames\n",
    "df_1['Avg Cost (LOESS)'] = df_1s[:, 1]\n",
    "df_2['Avg Cost (LOESS)'] = df_2s[:, 1]\n",
    "df_3['Avg Cost (LOESS)'] = df_3s[:, 1]\n",
    "# df_4['Accumulative Reward (LOESS)'] = df_4s[:, 1]\n",
    "\n",
    "\n",
    "\n",
    "plt.plot(df_1['Episode'], df_1['Avg Cost (LOESS)'], color=\"blue\")\n",
    "plt.plot(df_2['Episode'], df_2['Avg Cost (LOESS)'], color=\"green\")\n",
    "plt.plot(df_3['Episode'], df_3['Avg Cost (LOESS)'], color=\"red\")\n",
    "# plt.plot(df_4['Episode'], df_4['Avg Cost (LOESS)'], color=\"yellow\")\n",
    "\n",
    "# Customize the plot\n",
    "plt.title('Daily Operating Cost')\n",
    "plt.xlabel('Episode')\n",
    "plt.ylabel('Avg Cost')\n",
    "\n",
    "# Show the plot\n",
    "plt.show()"
   ],
   "outputs": []
  },
  {
   "cell_type": "code",
   "execution_count": 5,
   "id": "1b5fb7f8",
   "metadata": {
    "metadata": {}
   },
   "source": [
    "\n",
    "df_1['Avg Renewables Wasted (Avg)'] = df_1['Avg Renewables Wasted'].rolling(window=window_size).mean()\n",
    "df_2['Avg Renewables Wasted (Avg)'] = df_2['Avg Renewables Wasted'].rolling(window=window_size).mean()\n",
    "df_3['Avg Renewables Wasted (Avg)'] = df_3['Avg Renewables Wasted'].rolling(window=window_size).mean()\n",
    "# df_4['Avg Renewables Wasted (Avg)'] = df_4['Avg Renewables Wasted'].rolling(window=window_size).mean()\n",
    "\n",
    "frac = 0.15\n",
    "lowess = sm.nonparametric.lowess\n",
    "window_size = 125  # Change this based on your needs\n",
    "df_1s = lowess(df_1['Avg Renewables Wasted'], df_1['Episode'], frac=frac)\n",
    "df_2s = lowess(df_2['Avg Renewables Wasted'], df_2['Episode'], frac=frac)\n",
    "df_3s = lowess(df_3['Avg Renewables Wasted'], df_3['Episode'], frac=frac)\n",
    "# df_4s = lowess(df_4['Avg Renewables Wasted'], df_4['Episode'], frac=frac)\n",
    "\n",
    "# Add the smoothed data to the original DataFrames\n",
    "df_1['Avg Renewables Wasted (LOESS)'] = df_1s[:, 1]\n",
    "df_2['Avg Renewables Wasted (LOESS)'] = df_2s[:, 1]\n",
    "df_3['Avg Renewables Wasted (LOESS)'] = df_3s[:, 1]\n",
    "# df_4['Avg Renewables Wasted (LOESS)'] = df_4s[:, 1]\n",
    "\n",
    "plt.plot(df_1['Episode'], df_1['Avg Renewables Wasted (LOESS)'], color=\"blue\")\n",
    "plt.plot(df_2['Episode'], df_2['Avg Renewables Wasted (LOESS)'], color=\"green\")\n",
    "plt.plot(df_3['Episode'], df_3['Avg Renewables Wasted (LOESS)'], color=\"red\")\n",
    "# plt.plot(df_4['Episode'], df_4['Avg Renewables Wasted (LOESS)'], color=\"yellow\")\n",
    "\n",
    "# Customize the plot\n",
    "plt.title('Avg RES Wasted')\n",
    "plt.xlabel('Episode')\n",
    "plt.ylabel('Avg RES Wasted')\n",
    "\n",
    "# Show the plot\n",
    "plt.show()"
   ],
   "outputs": []
  }
 ],
 "metadata": {
  "kernelspec": {
   "display_name": "Python 3",
   "language": "python",
   "name": "python3"
  },
  "language_info": {
   "codemirror_mode": {
    "name": "ipython",
    "version": 3
   },
   "file_extension": ".py",
   "mimetype": "text/x-python",
   "name": "python",
   "nbconvert_exporter": "python",
   "pygments_lexer": "ipython3",
   "version": "3.12.3"
  }
 },
 "nbformat": 4,
 "nbformat_minor": 5
}
